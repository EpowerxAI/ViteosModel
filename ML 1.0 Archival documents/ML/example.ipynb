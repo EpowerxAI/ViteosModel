{
 "cells": [
  {
   "cell_type": "code",
   "execution_count": 1,
   "metadata": {},
   "outputs": [],
   "source": [
    "from plotly.graph_objects import Bar\n",
    "from plotly import offline\n",
    "import requests\n",
    "import plotly.express as px\n",
    "import numpy as np\n",
    "import pandas as pd\n",
    "import plotly.graph_objects as go"
   ]
  },
  {
   "cell_type": "code",
   "execution_count": 2,
   "metadata": {},
   "outputs": [
    {
     "name": "stdout",
     "output_type": "stream",
     "text": [
      "Status Code: 200\n"
     ]
    },
    {
     "name": "stderr",
     "output_type": "stream",
     "text": [
      "C:\\Users\\aditya.mulik\\AppData\\Local\\Continuum\\anaconda3\\lib\\site-packages\\urllib3\\connectionpool.py:847: InsecureRequestWarning:\n",
      "\n",
      "Unverified HTTPS request is being made. Adding certificate verification is strongly advised. See: https://urllib3.readthedocs.io/en/latest/advanced-usage.html#ssl-warnings\n",
      "\n"
     ]
    }
   ],
   "source": [
    "url = 'https:example.com'\n",
    "headers = {'Accept': 'application/json'}\n",
    "r = requests.get(url, verify=False, auth=('(****@***.com)', '*******'), headers=headers)\n",
    "print(f\"Status Code: {r.status_code}\")"
   ]
  },
  {
   "cell_type": "code",
   "execution_count": 3,
   "metadata": {},
   "outputs": [
    {
     "name": "stdout",
     "output_type": "stream",
     "text": [
      "dict_keys(['metadata', 'entities'])\n"
     ]
    }
   ],
   "source": [
    "response_dict = r.json()\n",
    "print(response_dict.keys())"
   ]
  },
  {
   "cell_type": "code",
   "execution_count": 5,
   "metadata": {},
   "outputs": [
    {
     "name": "stdout",
     "output_type": "stream",
     "text": [
      "Repositories returned for entities : 5\n"
     ]
    }
   ],
   "source": [
    "repo_dicts = response_dict['entities']\n",
    "print(f\"Repositories returned for entities : {len(repo_dicts)}\")"
   ]
  },
  {
   "cell_type": "code",
   "execution_count": 6,
   "metadata": {},
   "outputs": [
    {
     "name": "stdout",
     "output_type": "stream",
     "text": [
      "\n",
      "Keys: 71\n",
      "backplane_ip\n",
      "bios_model\n",
      "bios_version\n",
      "block_location\n",
      "block_model\n",
      "block_model_name\n",
      "block_serial\n",
      "bmc_model\n",
      "bmc_version\n",
      "boot_time_in_usecs\n",
      "cluster_uuid\n",
      "controller_vm_backplane_ip\n",
      "cpu_capacity_in_hz\n",
      "cpu_frequency_in_hz\n",
      "cpu_model\n",
      "default_vhd_location\n",
      "default_vhd_storage_container_id\n",
      "default_vhd_storage_container_uuid\n",
      "default_vm_location\n",
      "default_vm_storage_container_id\n",
      "default_vm_storage_container_uuid\n",
      "disk_hardware_configs\n",
      "dynamic_ring_changing_node\n",
      "failover_cluster_fqdn\n",
      "failover_cluster_node_state\n",
      "gpu_driver_version\n",
      "has_csr\n",
      "hba_firmwares_list\n",
      "host_gpus\n",
      "host_in_maintenance_mode\n",
      "host_maintenance_mode_reason\n",
      "host_nic_ids\n",
      "host_type\n",
      "hypervisor_address\n",
      "hypervisor_full_name\n",
      "hypervisor_key\n",
      "hypervisor_password\n",
      "hypervisor_state\n",
      "hypervisor_type\n",
      "hypervisor_username\n",
      "ipmi_address\n",
      "ipmi_password\n",
      "ipmi_username\n",
      "is_degraded\n",
      "key_management_device_to_certificate_status\n",
      "management_server_name\n",
      "memory_capacity_in_bytes\n",
      "metadata_store_status\n",
      "metadata_store_status_message\n",
      "monitored\n",
      "name\n",
      "num_cpu_cores\n",
      "num_cpu_sockets\n",
      "num_cpu_threads\n",
      "num_vms\n",
      "oplog_disk_pct\n",
      "oplog_disk_size\n",
      "position\n",
      "rdma_backplane_ips\n",
      "reboot_pending\n",
      "removal_status\n",
      "serial\n",
      "service_vmexternal_ip\n",
      "service_vmid\n",
      "service_vmnat_ip\n",
      "service_vmnat_port\n",
      "state\n",
      "stats\n",
      "usage_stats\n",
      "uuid\n",
      "vzone_name\n"
     ]
    }
   ],
   "source": [
    "repo_dict = repo_dicts[0]\n",
    "print(f\"\\nKeys: {len(repo_dict)}\")\n",
    "for key in sorted(repo_dict.keys()):\n",
    "    print(key)"
   ]
  },
  {
   "cell_type": "code",
   "execution_count": 8,
   "metadata": {},
   "outputs": [
    {
     "data": {
      "text/plain": [
       "(5, 71)"
      ]
     },
     "execution_count": 8,
     "metadata": {},
     "output_type": "execute_result"
    }
   ],
   "source": [
    "df = pd.DataFrame(response_dict['entities'])\n",
    "df.shape"
   ]
  },
  {
   "cell_type": "code",
   "execution_count": 10,
   "metadata": {},
   "outputs": [
    {
     "data": {
      "text/html": [
       "<div>\n",
       "<style scoped>\n",
       "    .dataframe tbody tr th:only-of-type {\n",
       "        vertical-align: middle;\n",
       "    }\n",
       "\n",
       "    .dataframe tbody tr th {\n",
       "        vertical-align: top;\n",
       "    }\n",
       "\n",
       "    .dataframe thead th {\n",
       "        text-align: right;\n",
       "    }\n",
       "</style>\n",
       "<table border=\"1\" class=\"dataframe\">\n",
       "  <thead>\n",
       "    <tr style=\"text-align: right;\">\n",
       "      <th></th>\n",
       "      <th>service_vmid</th>\n",
       "      <th>uuid</th>\n",
       "      <th>disk_hardware_configs</th>\n",
       "      <th>name</th>\n",
       "      <th>service_vmexternal_ip</th>\n",
       "      <th>service_vmnat_ip</th>\n",
       "      <th>service_vmnat_port</th>\n",
       "      <th>oplog_disk_pct</th>\n",
       "      <th>oplog_disk_size</th>\n",
       "      <th>hypervisor_key</th>\n",
       "      <th>...</th>\n",
       "      <th>cluster_uuid</th>\n",
       "      <th>stats</th>\n",
       "      <th>usage_stats</th>\n",
       "      <th>has_csr</th>\n",
       "      <th>host_nic_ids</th>\n",
       "      <th>host_gpus</th>\n",
       "      <th>gpu_driver_version</th>\n",
       "      <th>host_type</th>\n",
       "      <th>key_management_device_to_certificate_status</th>\n",
       "      <th>host_in_maintenance_mode</th>\n",
       "    </tr>\n",
       "  </thead>\n",
       "  <tbody>\n",
       "    <tr>\n",
       "      <td>0</td>\n",
       "      <td>00055aa3-dae4-9733-0000-000000017069::10</td>\n",
       "      <td>3eeecf5b-9a4d-400f-8e6f-c9efb02d0419</td>\n",
       "      <td>{'1': {'serial_number': 'S3F3NX0J603257', 'dis...</td>\n",
       "      <td>VITBLRNXUAT03</td>\n",
       "      <td>10.1.66.128</td>\n",
       "      <td>None</td>\n",
       "      <td>None</td>\n",
       "      <td>1.1</td>\n",
       "      <td>196512139264</td>\n",
       "      <td>10.1.66.228</td>\n",
       "      <td>...</td>\n",
       "      <td>00055aa3-dae4-9733-0000-000000017069</td>\n",
       "      <td>{'hypervisor_avg_io_latency_usecs': '0', 'num_...</td>\n",
       "      <td>{'storage_tier.das-sata.usage_bytes': '1002106...</td>\n",
       "      <td>False</td>\n",
       "      <td>[]</td>\n",
       "      <td>None</td>\n",
       "      <td>None</td>\n",
       "      <td>HYPER_CONVERGED</td>\n",
       "      <td>{}</td>\n",
       "      <td>False</td>\n",
       "    </tr>\n",
       "    <tr>\n",
       "      <td>1</td>\n",
       "      <td>00055aa3-dae4-9733-0000-000000017069::11</td>\n",
       "      <td>0d0e9d0f-4869-497a-b2f9-81f4d37b8995</td>\n",
       "      <td>{'1': {'serial_number': 'S3F3NX0J603951', 'dis...</td>\n",
       "      <td>VITBLRNXUAT04</td>\n",
       "      <td>10.1.66.129</td>\n",
       "      <td>None</td>\n",
       "      <td>None</td>\n",
       "      <td>0.7</td>\n",
       "      <td>121292541952</td>\n",
       "      <td>10.1.66.229</td>\n",
       "      <td>...</td>\n",
       "      <td>00055aa3-dae4-9733-0000-000000017069</td>\n",
       "      <td>{'hypervisor_avg_io_latency_usecs': '0', 'num_...</td>\n",
       "      <td>{'storage_tier.das-sata.usage_bytes': '1047564...</td>\n",
       "      <td>False</td>\n",
       "      <td>[]</td>\n",
       "      <td>None</td>\n",
       "      <td>None</td>\n",
       "      <td>HYPER_CONVERGED</td>\n",
       "      <td>{}</td>\n",
       "      <td>False</td>\n",
       "    </tr>\n",
       "    <tr>\n",
       "      <td>2</td>\n",
       "      <td>00055aa3-dae4-9733-0000-000000017069::12</td>\n",
       "      <td>ffdcd1c5-045b-4823-be7a-99087009120f</td>\n",
       "      <td>{'1': {'serial_number': 'S3F3NX0J603144', 'dis...</td>\n",
       "      <td>VITBLRNXUAT05</td>\n",
       "      <td>10.1.66.130</td>\n",
       "      <td>None</td>\n",
       "      <td>None</td>\n",
       "      <td>1.4</td>\n",
       "      <td>237314328576</td>\n",
       "      <td>10.1.66.230</td>\n",
       "      <td>...</td>\n",
       "      <td>00055aa3-dae4-9733-0000-000000017069</td>\n",
       "      <td>{'hypervisor_avg_io_latency_usecs': '0', 'num_...</td>\n",
       "      <td>{'storage_tier.das-sata.usage_bytes': '1010324...</td>\n",
       "      <td>False</td>\n",
       "      <td>[]</td>\n",
       "      <td>None</td>\n",
       "      <td>None</td>\n",
       "      <td>HYPER_CONVERGED</td>\n",
       "      <td>{}</td>\n",
       "      <td>False</td>\n",
       "    </tr>\n",
       "    <tr>\n",
       "      <td>3</td>\n",
       "      <td>00055aa3-dae4-9733-0000-000000017069::8</td>\n",
       "      <td>5d5436b7-f55c-4633-a937-56b712b97eb2</td>\n",
       "      <td>{'1': {'serial_number': 'S3F3NX0J603944', 'dis...</td>\n",
       "      <td>VITBLRNXUAT01</td>\n",
       "      <td>10.1.66.126</td>\n",
       "      <td>None</td>\n",
       "      <td>None</td>\n",
       "      <td>0.9</td>\n",
       "      <td>155314872320</td>\n",
       "      <td>10.1.66.226</td>\n",
       "      <td>...</td>\n",
       "      <td>00055aa3-dae4-9733-0000-000000017069</td>\n",
       "      <td>{'hypervisor_avg_io_latency_usecs': '0', 'num_...</td>\n",
       "      <td>{'storage_tier.das-sata.usage_bytes': '1026849...</td>\n",
       "      <td>False</td>\n",
       "      <td>[]</td>\n",
       "      <td>None</td>\n",
       "      <td>None</td>\n",
       "      <td>HYPER_CONVERGED</td>\n",
       "      <td>{}</td>\n",
       "      <td>False</td>\n",
       "    </tr>\n",
       "    <tr>\n",
       "      <td>4</td>\n",
       "      <td>00055aa3-dae4-9733-0000-000000017069::9</td>\n",
       "      <td>64c059e1-c555-4387-aae4-b805533d636f</td>\n",
       "      <td>{'1': {'serial_number': 'S3F3NX0J603132', 'dis...</td>\n",
       "      <td>VITBLRNXUAT02</td>\n",
       "      <td>10.1.66.127</td>\n",
       "      <td>None</td>\n",
       "      <td>None</td>\n",
       "      <td>0.9</td>\n",
       "      <td>160004917248</td>\n",
       "      <td>10.1.66.227</td>\n",
       "      <td>...</td>\n",
       "      <td>00055aa3-dae4-9733-0000-000000017069</td>\n",
       "      <td>{'hypervisor_avg_io_latency_usecs': '0', 'num_...</td>\n",
       "      <td>{'storage_tier.das-sata.usage_bytes': '9977232...</td>\n",
       "      <td>False</td>\n",
       "      <td>[]</td>\n",
       "      <td>None</td>\n",
       "      <td>None</td>\n",
       "      <td>HYPER_CONVERGED</td>\n",
       "      <td>{}</td>\n",
       "      <td>False</td>\n",
       "    </tr>\n",
       "  </tbody>\n",
       "</table>\n",
       "<p>5 rows × 71 columns</p>\n",
       "</div>"
      ],
      "text/plain": [
       "                               service_vmid  \\\n",
       "0  00055aa3-dae4-9733-0000-000000017069::10   \n",
       "1  00055aa3-dae4-9733-0000-000000017069::11   \n",
       "2  00055aa3-dae4-9733-0000-000000017069::12   \n",
       "3   00055aa3-dae4-9733-0000-000000017069::8   \n",
       "4   00055aa3-dae4-9733-0000-000000017069::9   \n",
       "\n",
       "                                   uuid  \\\n",
       "0  3eeecf5b-9a4d-400f-8e6f-c9efb02d0419   \n",
       "1  0d0e9d0f-4869-497a-b2f9-81f4d37b8995   \n",
       "2  ffdcd1c5-045b-4823-be7a-99087009120f   \n",
       "3  5d5436b7-f55c-4633-a937-56b712b97eb2   \n",
       "4  64c059e1-c555-4387-aae4-b805533d636f   \n",
       "\n",
       "                               disk_hardware_configs           name  \\\n",
       "0  {'1': {'serial_number': 'S3F3NX0J603257', 'dis...  VITBLRNXUAT03   \n",
       "1  {'1': {'serial_number': 'S3F3NX0J603951', 'dis...  VITBLRNXUAT04   \n",
       "2  {'1': {'serial_number': 'S3F3NX0J603144', 'dis...  VITBLRNXUAT05   \n",
       "3  {'1': {'serial_number': 'S3F3NX0J603944', 'dis...  VITBLRNXUAT01   \n",
       "4  {'1': {'serial_number': 'S3F3NX0J603132', 'dis...  VITBLRNXUAT02   \n",
       "\n",
       "  service_vmexternal_ip service_vmnat_ip service_vmnat_port  oplog_disk_pct  \\\n",
       "0           10.1.66.128             None               None             1.1   \n",
       "1           10.1.66.129             None               None             0.7   \n",
       "2           10.1.66.130             None               None             1.4   \n",
       "3           10.1.66.126             None               None             0.9   \n",
       "4           10.1.66.127             None               None             0.9   \n",
       "\n",
       "   oplog_disk_size hypervisor_key  ...                          cluster_uuid  \\\n",
       "0     196512139264    10.1.66.228  ...  00055aa3-dae4-9733-0000-000000017069   \n",
       "1     121292541952    10.1.66.229  ...  00055aa3-dae4-9733-0000-000000017069   \n",
       "2     237314328576    10.1.66.230  ...  00055aa3-dae4-9733-0000-000000017069   \n",
       "3     155314872320    10.1.66.226  ...  00055aa3-dae4-9733-0000-000000017069   \n",
       "4     160004917248    10.1.66.227  ...  00055aa3-dae4-9733-0000-000000017069   \n",
       "\n",
       "                                               stats  \\\n",
       "0  {'hypervisor_avg_io_latency_usecs': '0', 'num_...   \n",
       "1  {'hypervisor_avg_io_latency_usecs': '0', 'num_...   \n",
       "2  {'hypervisor_avg_io_latency_usecs': '0', 'num_...   \n",
       "3  {'hypervisor_avg_io_latency_usecs': '0', 'num_...   \n",
       "4  {'hypervisor_avg_io_latency_usecs': '0', 'num_...   \n",
       "\n",
       "                                         usage_stats has_csr host_nic_ids  \\\n",
       "0  {'storage_tier.das-sata.usage_bytes': '1002106...   False           []   \n",
       "1  {'storage_tier.das-sata.usage_bytes': '1047564...   False           []   \n",
       "2  {'storage_tier.das-sata.usage_bytes': '1010324...   False           []   \n",
       "3  {'storage_tier.das-sata.usage_bytes': '1026849...   False           []   \n",
       "4  {'storage_tier.das-sata.usage_bytes': '9977232...   False           []   \n",
       "\n",
       "  host_gpus gpu_driver_version        host_type  \\\n",
       "0      None               None  HYPER_CONVERGED   \n",
       "1      None               None  HYPER_CONVERGED   \n",
       "2      None               None  HYPER_CONVERGED   \n",
       "3      None               None  HYPER_CONVERGED   \n",
       "4      None               None  HYPER_CONVERGED   \n",
       "\n",
       "  key_management_device_to_certificate_status host_in_maintenance_mode  \n",
       "0                                          {}                    False  \n",
       "1                                          {}                    False  \n",
       "2                                          {}                    False  \n",
       "3                                          {}                    False  \n",
       "4                                          {}                    False  \n",
       "\n",
       "[5 rows x 71 columns]"
      ]
     },
     "execution_count": 10,
     "metadata": {},
     "output_type": "execute_result"
    }
   ],
   "source": [
    "df.head()"
   ]
  },
  {
   "cell_type": "code",
   "execution_count": 12,
   "metadata": {},
   "outputs": [
    {
     "data": {
      "text/plain": [
       "array(['VITBLRNXUAT03', 'VITBLRNXUAT04', 'VITBLRNXUAT05', 'VITBLRNXUAT01',\n",
       "       'VITBLRNXUAT02'], dtype=object)"
      ]
     },
     "execution_count": 12,
     "metadata": {},
     "output_type": "execute_result"
    }
   ],
   "source": [
    "df.name.unique()"
   ]
  },
  {
   "cell_type": "code",
   "execution_count": 13,
   "metadata": {},
   "outputs": [
    {
     "data": {
      "text/plain": [
       "array(['NORMAL'], dtype=object)"
      ]
     },
     "execution_count": 13,
     "metadata": {},
     "output_type": "execute_result"
    }
   ],
   "source": [
    "df.state.unique()"
   ]
  },
  {
   "cell_type": "code",
   "execution_count": 14,
   "metadata": {},
   "outputs": [
    {
     "data": {
      "text/plain": [
       "array([ 1, 28, 32, 21], dtype=int64)"
      ]
     },
     "execution_count": 14,
     "metadata": {},
     "output_type": "execute_result"
    }
   ],
   "source": [
    "df.num_vms.unique()"
   ]
  },
  {
   "cell_type": "code",
   "execution_count": 13,
   "metadata": {},
   "outputs": [],
   "source": [
    "repo_names, name = [], []\n",
    "for repo_dict in repo_dicts:\n",
    "    repo_names.append(repo_dict['resolutions'])\n",
    "    name.append(repo_dict['scope'])"
   ]
  },
  {
   "cell_type": "code",
   "execution_count": null,
   "metadata": {},
   "outputs": [],
   "source": []
  },
  {
   "cell_type": "code",
   "execution_count": 14,
   "metadata": {},
   "outputs": [],
   "source": [
    "data= [{\n",
    "    'type': 'bar',\n",
    "    'x': repo_names,\n",
    "    'y': name,\n",
    "}]\n",
    "\n",
    "my_layout= {\n",
    "    \"title\": 'Nutanix UAT Graphing',\n",
    "    'xaxis': {'title': 'Virtual Machines'},\n",
    "    'yaxis': {'title': 'Memory'}\n",
    "}"
   ]
  },
  {
   "cell_type": "code",
   "execution_count": 15,
   "metadata": {},
   "outputs": [
    {
     "data": {
      "text/plain": [
       "'new_0.html'"
      ]
     },
     "execution_count": 15,
     "metadata": {},
     "output_type": "execute_result"
    }
   ],
   "source": [
    "\n",
    "fig = {'data': data, 'layout': my_layout}\n",
    "offline.plot(fig, filename=\"new_0.html\")\n",
    "# fig.show(data)"
   ]
  },
  {
   "cell_type": "code",
   "execution_count": null,
   "metadata": {},
   "outputs": [],
   "source": []
  },
  {
   "cell_type": "code",
   "execution_count": null,
   "metadata": {},
   "outputs": [],
   "source": []
  }
 ],
 "metadata": {
  "kernelspec": {
   "display_name": "Python 3",
   "language": "python",
   "name": "python3"
  },
  "language_info": {
   "codemirror_mode": {
    "name": "ipython",
    "version": 3
   },
   "file_extension": ".py",
   "mimetype": "text/x-python",
   "name": "python",
   "nbconvert_exporter": "python",
   "pygments_lexer": "ipython3",
   "version": "3.7.4"
  }
 },
 "nbformat": 4,
 "nbformat_minor": 2
}
