{
 "cells": [
  {
   "cell_type": "code",
   "execution_count": null,
   "metadata": {},
   "outputs": [],
   "source": [
    "def inttype(x):\n",
    "    if type(x)== float:\n",
    "        return 'interest'\n",
    "    else:\n",
    "        x1 = x.lower()\n",
    "        x2 = x1.split()\n",
    "        if 'int' in x2:\n",
    "            return 'interest'\n",
    "        else:\n",
    "            return x1 \n",
    "df3['ViewData.Transaction Type'] = df3['ViewData.Transaction Type'].apply(lambda x : inttype(x))\n",
    "\n",
    "def divclient(x):\n",
    "    if (type(x) == str):\n",
    "        x = x.lower()\n",
    "        if ('eqswap div client tax' in x) :\n",
    "            return 'eqswap div client tax'\n",
    "        else:\n",
    "            return x\n",
    "    else:\n",
    "        return 'float'\n",
    "df3['ViewData.Transaction Type'] = df3['ViewData.Transaction Type'].apply(lambda x : divclient(x))\n",
    "\n",
    "def mhreplace(item):\n",
    "    item1 = item.split()\n",
    "    for items in item1:\n",
    "        items = items.lower()\n",
    "        if items.endswith('mh')==True:\n",
    "            item1.remove(items)\n",
    "    return ' '.join(item1).lower()\n",
    "df3['ViewData.Transaction Type'] = df3['ViewData.Transaction Type'].apply(lambda x :mhreplace(x))\n",
    "df3['ViewData.Transaction Type'] = df3['ViewData.Transaction Type'].apply(lambda x :x.lower())\n",
    "def compname(x):\n",
    "    m = 0\n",
    "    comp = ['Corporate','stk','inc','lp','plc','inc.','inc','corp']\n",
    "    if type(x)==str:\n",
    "        x1 = x.split()\n",
    "        for item in x1:\n",
    "            if item in comp:\n",
    "                m = m+1\n",
    "    else:\n",
    "        m = 0\n",
    "    \n",
    "    if m ==0:\n",
    "        return x\n",
    "    else:\n",
    "        return 'Company'\n",
    "    \n",
    "df3['ViewData.Transaction Type'] = df3['ViewData.Transaction Type'].apply(lambda x : compname(x))\n",
    "\n",
    "def inter(x):\n",
    "    m = 0\n",
    "    comp = ['Corporate','stk','inc','lp','plc','inc.','inc','corp']\n",
    "    if type(x)==str:\n",
    "        x1 = x.split()\n",
    "        if (('from' in x1) & ('from' in x1)):\n",
    "            return 'interest'\n",
    "        else:\n",
    "            return x\n",
    "    else:\n",
    "        return x\n",
    "df3['ViewData.Transaction Type'] = df3['ViewData.Transaction Type'].apply(lambda x : inter(x))\n",
    "\n",
    "def wht(x):\n",
    "    if type(x)==str:\n",
    "        x1 = x.split()\n",
    "        if x1[0] =='30%':\n",
    "            return 'Withholding tax'\n",
    "        else:\n",
    "            return x\n",
    "    else:\n",
    "        return x\n",
    "df3['ViewData.Transaction Type'] = df3['ViewData.Transaction Type'].apply(lambda x : wht(x))"
   ]
  },
  {
   "cell_type": "code",
   "execution_count": null,
   "metadata": {},
   "outputs": [],
   "source": [
    "days = [1,30,31,29]\n",
    "data['ViewData.Settle Date'] = pd.to_datetime(data['ViewData.Settle Date'])\n",
    "data['monthend marker'] = data['ViewData.Settle Date'].apply(lambda x : 1 if x.day in days else 0)\n",
    "data['ViewData.Commission'] = data['ViewData.Commission'].fillna('NA')\n",
    "def comfun(x):\n",
    "    if x==\"NA\":\n",
    "        k = 'NA'\n",
    "       \n",
    "    elif x == 0.0:\n",
    "        k = 'zero'\n",
    "    else:\n",
    "        k = 'positive'\n",
    "   \n",
    "    return k\n",
    "data['comm_marker'] = data['ViewData.Commission'].apply(lambda x : comfun(x))\n",
    "data['new_pb2'] = data.apply(lambda x : 'Geneva' if x['ViewData.Side0_UniqueIds'] != 'AA' else x['new_pb1'], axis = 1)\n",
    "data['new_pb2'] = data['new_pb2'].apply(lambda x : x.lower())"
   ]
  },
  {
   "cell_type": "code",
   "execution_count": 1,
   "metadata": {},
   "outputs": [],
   "source": [
    "import pickle\n",
    "filename = 'finalized_model_weiss_catrefine_v10_gompu.sav'\n",
    "clf = pickle.load(open(filename, 'rb'))"
   ]
  },
  {
   "cell_type": "code",
   "execution_count": 2,
   "metadata": {},
   "outputs": [
    {
     "data": {
      "text/plain": [
       "['ViewData.Transaction Type2',\n",
       " 'ViewData.Asset Type Category',\n",
       " 'new_desc_cat',\n",
       " 'ViewData.Investment Type',\n",
       " 'new_pb2',\n",
       " 'new_pb1']"
      ]
     },
     "execution_count": 2,
     "metadata": {},
     "output_type": "execute_result"
    }
   ],
   "source": [
    "clf.feature_names_"
   ]
  },
  {
   "cell_type": "code",
   "execution_count": null,
   "metadata": {},
   "outputs": [],
   "source": [
    "'ViewData.Transaction Type1',\n",
    " 'ViewData.Asset Type Category1',\n",
    " 'ViewData.Investment Type1',\n",
    " 'new_desc_cat1',\n",
    " 'new_pb1',\n",
    " 'monthend marker',\n",
    " 'comm_marker',\n",
    " 'new_pb2'"
   ]
  }
 ],
 "metadata": {
  "kernelspec": {
   "display_name": "Python 3",
   "language": "python",
   "name": "python3"
  },
  "language_info": {
   "codemirror_mode": {
    "name": "ipython",
    "version": 3
   },
   "file_extension": ".py",
   "mimetype": "text/x-python",
   "name": "python",
   "nbconvert_exporter": "python",
   "pygments_lexer": "ipython3",
   "version": "3.7.4"
  }
 },
 "nbformat": 4,
 "nbformat_minor": 2
}
