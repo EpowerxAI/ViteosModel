{
 "cells": [
  {
   "cell_type": "code",
   "execution_count": 1,
   "metadata": {},
   "outputs": [],
   "source": [
    "import numpy as np\n",
    "import pandas as pd"
   ]
  },
  {
   "cell_type": "markdown",
   "metadata": {},
   "source": [
    "## Forward FX"
   ]
  },
  {
   "cell_type": "code",
   "execution_count": null,
   "metadata": {},
   "outputs": [],
   "source": [
    "def forwardfx_tt_flag(tt):\n",
    "    tt = tt.lower()\n",
    "    if any(key in tt for key in ['forwardfx',' fx']):\n",
    "        tt_flag = 1\n",
    "    else:\n",
    "        tt_flag = 0\n",
    "    return tt_flag\n",
    "cc['Forward_fx_flag'] = cc.apply(lambda x: forwardfx_tt_flag(x['ViewData.Transaction Type']), axis=1)\n",
    "\n",
    "\n",
    "\n",
    "if cc[(cc['Forward_fx_flag']==1)].shape[0]>0:\n",
    "    dd2 = cc[cc['Forward_fx_flag']==1]\n",
    "    dd2 = dd2.reset_index().drop('index',1)\n",
    "    dd2['ViewData.Settle Date'] = pd.to_datetime(dd2['ViewData.Settle Date'])\n",
    "    dd2['filter_key_with_sd'] = dd2['filter_key'].astype(str) + dd2['ViewData.Settle Date'].astype(str)\n",
    "else:\n",
    "    dd2 = pd.DataFrame()\n",
    "\n",
    "filter_key_umt_umb_forward = []\n",
    "\n",
    "if dd2.empty == False:\n",
    "    for key in dd2['filter_key_with_sd'].unique():        \n",
    "        dd2_dummy = dd2[dd2['filter_key_with_sd']==key]\n",
    "        #print(key)\n",
    "        if (-0.2<= dd2_dummy['ViewData.Net Amount Difference'].sum() <0.2) & (dd2_dummy.shape[0]>2) & (dd2_dummy['Trans_side'].nunique()>1):\n",
    "            #print(cc2_dummy.shape[0])\n",
    "            #print(key)\n",
    "            filter_key_umt_umb_forward.append(key)"
   ]
  },
  {
   "cell_type": "code",
   "execution_count": null,
   "metadata": {},
   "outputs": [],
   "source": [
    "############################### ForwardFX Many to many ############################\n",
    "\n",
    "if filter_key_umt_umb_forward ==[]:\n",
    "    filter_key_umt_umb_forward = ['None']\n",
    "\n",
    "fx_mtm_1_ids = []\n",
    "fx_mtm_0_ids = []\n",
    "\n",
    "if dd2.empty == False:\n",
    "    for key in filter_key_umt_umb_forward:\n",
    "        one_side_forward = dd2[dd2['filter_key_with_sd']== key]['ViewData.Side1_UniqueIds'].unique()\n",
    "        zero_side_forward = dd2[dd2['filter_key_with_sd']== key]['ViewData.Side0_UniqueIds'].unique()\n",
    "        one_side_forward = [i for i in one_side_forward if i not in ['nan','None','']]\n",
    "        zero_side_forward = [i for i in zero_side_forward if i not in ['nan','None','']]\n",
    "        fx_mtm_1_ids.append(one_side_forward)\n",
    "        fx_mtm_0_ids.append(zero_side_forward)\n",
    "\n",
    "if fx_mtm_1_ids !=[]:\n",
    "    mtm_list_1_fx = list(np.concatenate(fx_mtm_1_ids))\n",
    "else:\n",
    "    mtm_list_1_fx = []\n",
    "\n",
    "if fx_mtm_0_ids !=[]:\n",
    "    mtm_list_0_fx = list(np.concatenate(fx_mtm_0_ids))\n",
    "else:\n",
    "    mtm_list_0_fx = []\n",
    "    \n",
    "    \n",
    "##########################################################################################    \n",
    "## Data Frame for MTM from ForwardFX\n",
    "\n",
    "mtm_df_fx = pd.DataFrame(np.arange(len(fx_mtm_0_ids)))\n",
    "mtm_df_fx.columns = ['index']\n",
    "\n",
    "mtm_df_fx['ViewData.Side0_UniqueIds'] = fx_mtm_0_ids\n",
    "mtm_df_fx['ViewData.Side1_UniqueIds'] = fx_mtm_1_ids\n",
    "mtm_df_fx = mtm_df_fx.drop('index',1)"
   ]
  },
  {
   "cell_type": "code",
   "execution_count": null,
   "metadata": {},
   "outputs": [],
   "source": [
    "cc = cc[~((cc['ViewData.Side0_UniqueIds'].isin(mtm_list_0_fx)) |(cc['ViewData.Side1_UniqueIds'].isin(mtm_list_1_fx)))]\n",
    "cc = cc.reset_index().drop('index',1)"
   ]
  },
  {
   "cell_type": "markdown",
   "metadata": {},
   "source": [
    "## Expense"
   ]
  },
  {
   "cell_type": "code",
   "execution_count": null,
   "metadata": {},
   "outputs": [],
   "source": [
    "def expense_tt_flag(tt):\n",
    "    tt = tt.lower()\n",
    "    if any(key in tt for key in ['expense','withdraw','deposit']) and tt!='cash deposit':\n",
    "        tt_flag = 1\n",
    "    else:\n",
    "        tt_flag = 0\n",
    "    return tt_flag\n",
    "cc['Expense_flag'] = cc.apply(lambda x: expense_tt_flag(x['ViewData.Transaction Type']), axis=1)"
   ]
  },
  {
   "cell_type": "code",
   "execution_count": null,
   "metadata": {},
   "outputs": [],
   "source": [
    "if cc[(cc['Expense_flag']==1)].shape[0]>0:\n",
    "    ee2 = cc[cc['Expense_flag']==1]\n",
    "    ee2 = ee2.reset_index().drop('index',1)\n",
    "    ee2['ViewData.Settle Date'] = pd.to_datetime(ee2['ViewData.Settle Date'])\n",
    "    ee2['filter_key_with_sd'] = ee2['filter_key'].astype(str) + ee2['ViewData.Settle Date'].astype(str)\n",
    "else:\n",
    "    ee2 = pd.DataFrame()\n",
    "\n",
    "filter_key_umt_umb_expense = []\n",
    "\n",
    "if ee2.empty == False:\n",
    "    for key in ee2['filter_key_with_sd'].unique():        \n",
    "        ee2_dummy = ee2[ee2['filter_key_with_sd']==key]\n",
    "        #print(key)\n",
    "        if (-0.2<= ee2_dummy['ViewData.Net Amount Difference'].sum() <0.2) & (ee2_dummy.shape[0]>2) & (ee2_dummy['Trans_side'].nunique()>1):\n",
    "            #print(cc2_dummy.shape[0])\n",
    "            #print(key)\n",
    "            filter_key_umt_umb_expense.append(key)"
   ]
  },
  {
   "cell_type": "code",
   "execution_count": null,
   "metadata": {},
   "outputs": [],
   "source": [
    "############################### ForwardFX Many to many ############################\n",
    "\n",
    "if filter_key_umt_umb_expense ==[]:\n",
    "    filter_key_umt_umb_expense = ['None']\n",
    "\n",
    "ex_mtm_1_ids = []\n",
    "ex_mtm_0_ids = []\n",
    "\n",
    "if ee2.empty == False:\n",
    "    for key in filter_key_umt_umb_expense:\n",
    "        one_side_expense = ee2[ee2['filter_key_with_sd']== key]['ViewData.Side1_UniqueIds'].unique()\n",
    "        zero_side_expense = ee2[ee2['filter_key_with_sd']== key]['ViewData.Side0_UniqueIds'].unique()\n",
    "        one_side_expense = [i for i in one_side_expense if i not in ['nan','None','']]\n",
    "        zero_side_expense = [i for i in zero_side_expense if i not in ['nan','None','']]\n",
    "        ex_mtm_1_ids.append(one_side_expense)\n",
    "        ex_mtm_0_ids.append(zero_side_expense)\n",
    "\n",
    "if ex_mtm_1_ids !=[]:\n",
    "    mtm_list_1_ex = list(np.concatenate(ex_mtm_1_ids))\n",
    "else:\n",
    "    mtm_list_1_ex = []\n",
    "\n",
    "if ex_mtm_0_ids !=[]:\n",
    "    mtm_list_0_ex = list(np.concatenate(ex_mtm_0_ids))\n",
    "else:\n",
    "    mtm_list_0_ex = []\n",
    "    \n",
    "    \n",
    "##########################################################################################    \n",
    "## Data Frame for MTM from ForwardFX\n",
    "\n",
    "mtm_df_ex = pd.DataFrame(np.arange(len(ex_mtm_0_ids)))\n",
    "mtm_df_ex.columns = ['index']\n",
    "\n",
    "mtm_df_ex['ViewData.Side0_UniqueIds'] = ex_mtm_0_ids\n",
    "mtm_df_ex['ViewData.Side1_UniqueIds'] = ex_mtm_1_ids\n",
    "mtm_df_ex = mtm_df_ex.drop('index',1)\n"
   ]
  },
  {
   "cell_type": "code",
   "execution_count": null,
   "metadata": {},
   "outputs": [],
   "source": [
    "cc = cc[~((cc['ViewData.Side0_UniqueIds'].isin(mtm_list_0_ex)) |(cc['ViewData.Side1_UniqueIds'].isin(mtm_list_1_ex)))]\n",
    "cc = cc.reset_index().drop('index',1)"
   ]
  }
 ],
 "metadata": {
  "kernelspec": {
   "display_name": "Python 3",
   "language": "python",
   "name": "python3"
  },
  "language_info": {
   "codemirror_mode": {
    "name": "ipython",
    "version": 3
   },
   "file_extension": ".py",
   "mimetype": "text/x-python",
   "name": "python",
   "nbconvert_exporter": "python",
   "pygments_lexer": "ipython3",
   "version": "3.7.4"
  }
 },
 "nbformat": 4,
 "nbformat_minor": 2
}
